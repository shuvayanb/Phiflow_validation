{
  "cells": [
    {
      "cell_type": "markdown",
      "metadata": {
        "id": "view-in-github",
        "colab_type": "text"
      },
      "source": [
        "<a href=\"https://colab.research.google.com/github/shuvayanb/Phiflow_validation/blob/main/Taylor_Green_vortex_decay_Re_10.ipynb\" target=\"_parent\"><img src=\"https://colab.research.google.com/assets/colab-badge.svg\" alt=\"Open In Colab\"/></a>"
      ]
    },
    {
      "cell_type": "markdown",
      "id": "7ca53216",
      "metadata": {
        "id": "7ca53216"
      },
      "source": [
        "<font size=\"6\">Taylor Green vortex decay</font>\n",
        "\n",
        "We will use this Jupyter Notebook to simulate the Taylor-Green vortex decay problem ([Orszag 1974](https://link.springer.com/content/pdf/10.1007/3-540-06769-8_4.pdf)). This test case provides an analytical solution of the turbulent decay, energy dissipation mechanism, etc. and is used as a benchmark test case for validating an incompressible viscous fluid solver.  \n",
        "\n",
        "\n",
        "The exact form of the velocity field as a function of spatial and temporal coordinates are shown below, which is solved numerically at time $t=0$ units in a domain $\\Omega_1$ = $2\\pi \\times 2\\pi$ discretised by 40 $\\times$ 40 control volumes. \n",
        "\n",
        "\\begin{equation}\n",
        "\tu(x, y, t) = -u_\\mathrm{0} \\mathrm{cos}(x) \\ \\mathrm{sin}(y) \\ \\mathrm{exp}\\Big(-2 \\nu t \\Big)\n",
        "\\end{equation}\\begin{equation}\n",
        "\tv(x, y, t) = -u_\\mathrm{0} \\mathrm{sin}(x) \\ \\mathrm{cos}(y) \\ \\mathrm{exp}\\Big(-2 \\nu t \\Big)\n",
        "\\end{equation}\n",
        "\n",
        "$u$-velocity field at time $t$ = 0 units\n",
        "![](https://raw.githubusercontent.com/shuvayanb/files_folders/main/TGV_vel_x.png)\n",
        "\n",
        "$v$-velocity field at time $t$ = 0 units\n",
        "![](https://raw.githubusercontent.com/shuvayanb/files_folders/main/TGV_vel_y.png)"
      ]
    },
    {
      "cell_type": "code",
      "execution_count": null,
      "id": "6339f61c",
      "metadata": {
        "colab": {
          "base_uri": "https://localhost:8080/"
        },
        "id": "6339f61c",
        "outputId": "2d379601-157c-46da-eb5b-cb35cd1306d7"
      },
      "outputs": [
        {
          "output_type": "stream",
          "name": "stdout",
          "text": [
            "\u001b[K     |████████████████████████████████| 38.1 MB 1.3 MB/s \n",
            "\u001b[?25h  Building wheel for phiflow (setup.py) ... \u001b[?25l\u001b[?25hdone\n",
            "\u001b[31mERROR: pip's dependency resolver does not currently take into account all the packages that are installed. This behaviour is the source of the following dependency conflicts.\n",
            "albumentations 0.1.12 requires imgaug<0.2.7,>=0.2.5, but you have imgaug 0.2.9 which is incompatible.\u001b[0m\n",
            "Phiflow version: 2.1.2\n",
            "Numpy version: 1.21.6\n",
            "Scipy version: 1.7.3\n"
          ]
        }
      ],
      "source": [
        "#!pip uninstall phiflow\n",
        "!pip install --upgrade --quiet git+https://github.com/tum-pbs/PhiFlow@develop\n",
        "from phi.flow import*\n",
        "from phi import __version__\n",
        "import scipy; scipy.__version__\n",
        "import numpy; numpy.__version__\n",
        "\n",
        "print(\"Phiflow version: {}\".format(phi.__version__))\n",
        "print(\"Numpy version: {}\".format(numpy.__version__))\n",
        "print(\"Scipy version: {}\".format(scipy.__version__))"
      ]
    },
    {
      "cell_type": "markdown",
      "id": "955cc809",
      "metadata": {
        "id": "955cc809"
      },
      "source": [
        "As alluded to earlier, we will use a $\\texttt{centered_grid}$ of size 40 $\\times$ 40 to discretise the computational domain. While this test case would work fine with a $\\texttt{staggered_grid}$ as well, we use a $\\texttt{centered_grid}$ for a change. The flow is initialised with the exact solution and solved until a total time of $T$ = 30 units with a time-step size $\\Delta t$ = 0.01. For the present problem, the physical viscosity of the flow $\\nu$ acts as a mechanism for dissipation of the flow. The kinematic viscosity of the flow  is taken as $\\nu$ = $\\pi/100$. This results in a Reynolds number of $Re$ = 10, defined as:\n",
        "\n",
        "$$ Re = \\frac{2 \\pi u_\\mathrm{0}}{\\nu} = 10$$"
      ]
    },
    {
      "cell_type": "code",
      "execution_count": null,
      "id": "a5bc1e98",
      "metadata": {
        "scrolled": true,
        "colab": {
          "base_uri": "https://localhost:8080/"
        },
        "id": "a5bc1e98",
        "outputId": "5ca2fa60-d936-484c-ff4c-aa2f74de8c1e"
      },
      "outputs": [
        {
          "output_type": "stream",
          "name": "stdout",
          "text": [
            "The Reynolds number is : 10.0\n",
            "The grid spacing is : 0.15707963267948966\n"
          ]
        }
      ],
      "source": [
        "N = 40 # number of control volumes\n",
        "\n",
        "T = 30 # total time in seconds\n",
        "DT = 0.01 # time steps\n",
        "STEPS = int(T/DT) # number of time steps\n",
        "\n",
        "NU = math.pi/100 # Viscosity is zero considering inviscid flow\n",
        "\n",
        "Uo = 0.05\n",
        "\n",
        "t = 0\n",
        "Re = 2*math.pi*Uo/NU; # Reynolds number\n",
        "L = np.pi*2 # Length of the boundary in either side of the computational domain\n",
        "\n",
        "\n",
        "LL = 0\n",
        "UL = 2*math.pi\n",
        "\n",
        "def pressure(x, q=1, t=0, Re=10):\n",
        "    return math.sum(math.cos(2 * x * q), 'vector') / 4 * math.exp(-4 * q**2 * t / Re)\n",
        "\n",
        "def velocity(x, q=1, t=0, Re=10):\n",
        "    sin = math.sin(q*x)\n",
        "    cos = math.cos(q*x)\n",
        "    vec = math.stack([-Uo * cos.vector['x'] * sin.vector['y'] , Uo * sin.vector['x'] * cos.vector['y']], dim=channel(vector='x,y'))\n",
        "    return math.exp(-2*NU*t) * vec\n",
        "\n",
        "DOMAIN = dict(x=N, y=N, bounds=Box[LL:UL, LL:UL], extrapolation=extrapolation.PERIODIC)\n",
        "p0 = CenteredGrid(pressure, **DOMAIN)\n",
        "v0 = CenteredGrid(velocity, **DOMAIN)\n",
        "\n",
        "\n",
        "print(\"The Reynolds number is : {}\".format(Re))\n",
        "print(\"The grid spacing is : {}\".format(L/N))\n",
        "\n",
        "#vis.plot(v0*5)\n",
        "#vis.plot(v0.vector['x'])\n",
        "#vis.plot(v0.vector['y'])\n",
        "#vis.show()\n"
      ]
    },
    {
      "cell_type": "code",
      "execution_count": null,
      "id": "d1236905",
      "metadata": {
        "colab": {
          "base_uri": "https://localhost:8080/"
        },
        "id": "d1236905",
        "outputId": "d11f9bb6-dd81-428b-c9dd-321acc6025c0"
      },
      "outputs": [
        {
          "output_type": "stream",
          "name": "stdout",
          "text": [
            "Simulated time: 0.01 units , remaining 1e+02 (%)\n",
            "Simulated time: 1.01 units , remaining 96.6 (%)\n",
            "Simulated time: 2.01 units , remaining 93.3 (%)\n",
            "Simulated time: 3.01 units , remaining 90.0 (%)\n",
            "Simulated time: 4.01 units , remaining 86.6 (%)\n",
            "Simulated time: 5.01 units , remaining 83.3 (%)\n",
            "Simulated time: 6.01 units , remaining 80.0 (%)\n",
            "Simulated time: 7.01 units , remaining 76.6 (%)\n",
            "Simulated time: 8.01 units , remaining 73.3 (%)\n",
            "Simulated time: 9.01 units , remaining 70.0 (%)\n",
            "Simulated time: 10.01 units , remaining 66.6 (%)\n",
            "Simulated time: 11.01 units , remaining 63.3 (%)\n",
            "Simulated time: 12.01 units , remaining 60.0 (%)\n",
            "Simulated time: 13.01 units , remaining 56.6 (%)\n",
            "Simulated time: 14.01 units , remaining 53.3 (%)\n",
            "Simulated time: 15.01 units , remaining 50.0 (%)\n",
            "Simulated time: 16.01 units , remaining 46.6 (%)\n",
            "Simulated time: 17.01 units , remaining 43.3 (%)\n",
            "Simulated time: 18.01 units , remaining 40.0 (%)\n",
            "Simulated time: 19.01 units , remaining 36.6 (%)\n",
            "Simulated time: 20.01 units , remaining 33.3 (%)\n",
            "Simulated time: 21.01 units , remaining 30.0 (%)\n",
            "Simulated time: 22.01 units , remaining 26.6 (%)\n",
            "Simulated time: 23.01 units , remaining 23.3 (%)\n",
            "Simulated time: 24.01 units , remaining 20.0 (%)\n",
            "Simulated time: 25.01 units , remaining 16.6 (%)\n",
            "Simulated time: 26.01 units , remaining 13.3 (%)\n",
            "Simulated time: 27.01 units , remaining 9.97 (%)\n",
            "Simulated time: 28.01 units , remaining 6.63 (%)\n",
            "Simulated time: 29.01 units , remaining 3.3 (%)\n"
          ]
        }
      ],
      "source": [
        "velocities = [v0]\n",
        "pressures = [p0]\n",
        "age = 0.0\n",
        "for i in range(STEPS):\n",
        "    v1 = diffuse.explicit(velocities[-1], NU, DT)\n",
        "    v2 = advect.semi_lagrangian(v1, v1, DT)\n",
        "    v3,p3 = fluid.make_incompressible(v2,(), Solve('CG', 1e-5, 1e-5, x0=None))\n",
        "    age += DT\n",
        "    if i%100==0:\n",
        "        print(\"Simulated time: {:0.4} units , remaining {:0.3} (%)\".format(age, (T-age)*100/T))\n",
        "        \n",
        "    velocities.append(v3)\n",
        "    pressures.append(p3)\n",
        "\n",
        "    "
      ]
    },
    {
      "cell_type": "code",
      "execution_count": null,
      "id": "ee7e6ed5",
      "metadata": {
        "colab": {
          "base_uri": "https://localhost:8080/",
          "height": 522
        },
        "id": "ee7e6ed5",
        "outputId": "2ef2c174-4970-46bd-b1b1-4cbcb9b90acc"
      },
      "outputs": [
        {
          "output_type": "stream",
          "name": "stderr",
          "text": [
            "/usr/local/lib/python3.7/dist-packages/ipykernel_launcher.py:43: SyntaxWarning: Slicing a Tensor with a tuple or list should only be used for channel dimensions. Use a dict or the special slicing syntax tensor.dim[slice] instead\n",
            "/usr/local/lib/python3.7/dist-packages/ipykernel_launcher.py:44: SyntaxWarning: Slicing a Tensor with a tuple or list should only be used for channel dimensions. Use a dict or the special slicing syntax tensor.dim[slice] instead\n",
            "/usr/local/lib/python3.7/dist-packages/ipykernel_launcher.py:46: SyntaxWarning: Slicing a Tensor with a tuple or list should only be used for channel dimensions. Use a dict or the special slicing syntax tensor.dim[slice] instead\n",
            "/usr/local/lib/python3.7/dist-packages/ipykernel_launcher.py:47: SyntaxWarning: Slicing a Tensor with a tuple or list should only be used for channel dimensions. Use a dict or the special slicing syntax tensor.dim[slice] instead\n"
          ]
        },
        {
          "output_type": "display_data",
          "data": {
            "text/plain": [
              "<Figure size 864x432 with 1 Axes>"
            ],
            "image/png": "[encoded data removed]"
          },
          "metadata": {
            "needs_background": "light"
          }
        }
      ],
      "source": [
        "import matplotlib.pyplot as plt\n",
        "from matplotlib.font_manager import FontProperties\n",
        "import matplotlib.font_manager as font_manager\n",
        "\n",
        "import numpy as np\n",
        "import pandas as pd\n",
        "\n",
        "url_1 = 'https://raw.githubusercontent.com/shuvayanb/files_folders/main/Mclab_ux.csv'\n",
        "df1 = pd.read_csv(url_1,delimiter = ',', encoding='unicode_escape')\n",
        "df1.head()\n",
        "\n",
        "url_2 = 'https://raw.githubusercontent.com/shuvayanb/files_folders/main/Mclab_uy.csv'\n",
        "df2 = pd.read_csv(url_2,delimiter = ',', encoding='unicode_escape')\n",
        "df2.head()\n",
        "\n",
        "\n",
        "u_Mclab = np.array(df1)\n",
        "v_Mclab = np.array(df2)\n",
        "\n",
        "x_M = u_Mclab[:,0]\n",
        "Vx_M = u_Mclab[:,1]\n",
        "\n",
        "y_M = v_Mclab[:,0]\n",
        "Vy_M = v_Mclab[:,1]\n",
        "\n",
        "\n",
        "\n",
        "font = font_manager.FontProperties(family='Times New Roman', weight='normal', style='normal', size=15)\n",
        "csfont = {'fontname':'Times New Roman'}\n",
        "\n",
        "\n",
        "def vel_exact(x, t=T):\n",
        "    sin = math.sin(x)\n",
        "    cos = math.cos(x)\n",
        "    vec = math.stack([-Uo * cos.vector['x'] * sin.vector['y'] , Uo * sin.vector['x'] * cos.vector['y']], dim=channel(vector='x,y'))\n",
        "    return math.exp(-2*NU*t) * vec\n",
        "\n",
        "vT = CenteredGrid(vel_exact, **DOMAIN)\n",
        "\n",
        "div1 = 20\n",
        "div2 = 10\n",
        "\n",
        "ux_pi = np.asarray(velocities[-1].vector['x'].values[div1,:])\n",
        "Vx_pi = np.asarray(vT.vector['x'].values[div1,:])\n",
        "\n",
        "uy_pi_2 = np.asarray(velocities[-1].vector['y'].values[div2,:])\n",
        "Vy_pi_2 = np.asarray(vT.vector['y'].values[div2,:])\n",
        "\n",
        "\n",
        "y_2_pi = np.linspace(0,L,N)\n",
        "\n",
        "plt.figure(figsize=(12,6))\n",
        "\n",
        "plt.plot(y_2_pi/(math.pi*2), ux_pi/Uo, label = '$\\phi_{\\mathrm{flow}}, x$ = Pi', color='blue')\n",
        "plt.scatter(y_2_pi/(math.pi*2), Vx_pi/Uo, label = 'Exact, $x$ = Pi', color='blue')\n",
        "plt.scatter(x_M, Vx_M, marker = 's', facecolors='none', edgecolors='b', label = 'Mclab, $x$ = Pi', color='blue')\n",
        "\n",
        "plt.plot(y_2_pi/(math.pi*2), uy_pi_2/Uo, label = '$\\phi_{\\mathrm{flow}}, x$ = Pi/2' , color='red')\n",
        "plt.scatter(y_2_pi/(math.pi*2), Vy_pi_2/Uo, label = 'Exact,$x$ = Pi/2', color='red')\n",
        "plt.scatter(y_M, Vy_M, marker = 's', facecolors='none', edgecolors='r', label = 'Mclab, $x$ = Pi', color='blue')\n",
        "\n",
        "plt.xlim(0,1.0)\n",
        "plt.ylim(-0.2,0.2)\n",
        "\n",
        "plt.title('Comparison with exact solution at $t$ = 30 units', fontsize = 22, **csfont)    \n",
        "plt.xlabel('$y/2 \\pi$',fontsize=20,**csfont)\n",
        "plt.ylabel('$u/u_o$',fontsize=20, **csfont)\n",
        "plt.tick_params(labelsize=16)\n",
        "plt.legend(loc=\"best\", prop=font)\n",
        "plt.show()"
      ]
    },
    {
      "cell_type": "markdown",
      "id": "58064969",
      "metadata": {
        "id": "58064969"
      },
      "source": [
        "Finally, we compare the quantitative comparison of the velocity field *i.e*., $\\frac{u}{u_o}$ at $x$ = $\\pi$ and at $x$ = $\\pi$/2 above with analytical and existing solutions [Zhou, J.G. 2019](https://arxiv.org/pdf/1901.02716.pdf), page 7, Fig. 7), obtained on the same grid resolution and same instance of time. It is found that $\\Phi_{\\mathrm{flow}}$ flow does quite well in accurately reproducing the flowfield at the boundaries as well as capturing the local maxima and minima. How do the solution compare? To our estimate, using the existing grid resolution (i.e., 40 $\\times$ 40) and $\\Delta t$ = 0.01, renders quite an accurate solution. "
      ]
    },
    {
      "cell_type": "code",
      "execution_count": null,
      "id": "b41d8a16",
      "metadata": {
        "colab": {
          "base_uri": "https://localhost:8080/",
          "height": 35
        },
        "id": "b41d8a16",
        "outputId": "ccae705a-cd78-41c6-e6d3-f041c0164133"
      },
      "outputs": [
        {
          "output_type": "display_data",
          "data": {
            "text/plain": [
              "<Figure size 432x288 with 0 Axes>"
            ]
          },
          "metadata": {}
        }
      ],
      "source": [
        "vis.plot(velocities[-1]*100)\n",
        "vis.show()"
      ]
    }
  ],
  "metadata": {
    "kernelspec": {
      "display_name": "Python 3 (ipykernel)",
      "language": "python",
      "name": "python3"
    },
    "language_info": {
      "codemirror_mode": {
        "name": "ipython",
        "version": 3
      },
      "file_extension": ".py",
      "mimetype": "text/x-python",
      "name": "python",
      "nbconvert_exporter": "python",
      "pygments_lexer": "ipython3",
      "version": "3.9.7"
    },
    "colab": {
      "name": "Taylor_Green_decay_40_x_40_Re_10.ipynb",
      "provenance": [],
      "collapsed_sections": [],
      "include_colab_link": true
    }
  },
  "nbformat": 4,
  "nbformat_minor": 5
}