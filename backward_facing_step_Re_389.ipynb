{
  "cells": [
    {
      "cell_type": "markdown",
      "metadata": {
        "id": "view-in-github",
        "colab_type": "text"
      },
      "source": [
        "<a href=\"https://colab.research.google.com/github/shuvayanb/Phiflow_validation/blob/main/backward_facing_step_Re_389.ipynb\" target=\"_parent\"><img src=\"https://colab.research.google.com/assets/colab-badge.svg\" alt=\"Open In Colab\"/></a>"
      ]
    },
    {
      "cell_type": "markdown",
      "metadata": {
        "id": "d0e45891"
      },
      "source": [
        "<font size=\"6\">Backward facing step</font>\n",
        "\n",
        "We will use this Jupyter Notebook to run a quick fluid simulation governed by Navier-Stokes equation. The test case is known as Backward-facing step problem and remains one of the most cited fluid-mechanics papers ([Armaly et al. 1983](https://www.cambridge.org/core/journals/journal-of-fluid-mechanics/article/abs/experimental-and-theoretical-investigation-of-backwardfacing-step-flow/6F4D0F1F684A7BAF899EA1CB88B09DEC)). This test case represents an incompressible flow inside a channel with a step having a prescribed parabolic velocity profile at the inlet. The presence of a strong separation due to the step yields a re-attachment point which has been experimentally quantified for different freestream\n",
        "Reynolds numbers. \n",
        "\n",
        "![](https://raw.githubusercontent.com/shuvayanb/files_folders/main/bfs_geo.png)\n"
      ],
      "id": "d0e45891"
    },
    {
      "cell_type": "markdown",
      "metadata": {
        "id": "8d80a710"
      },
      "source": [
        "Here we will numerically solve the following governing equations using $\\phi_{\\mathrm{flow}}$. \n",
        "\n",
        "$$\\begin{aligned}\n",
        "    \\frac{\\partial \\mathbf{u}}{\\partial{t}} + \\mathbf{u} \\cdot \\nabla \\mathbf{u} &= - \\frac{1}{\\rho} \\nabla p + \\nu \\nabla\\cdot \\nabla \\mathbf{u}\n",
        "  \\quad \\text{s.t.} \\quad \\nabla \\cdot \\mathbf{u} = 0,\n",
        "\\end{aligned}$$\n",
        "\n",
        "The test problem describes the dynamical state of an incompressible (constant density $\\rho$) and is devoid of any body force term. Dirichlet boundary conditions are applied to the top and bottom walls (no-slip) whereas at the inlet, a parabolic velocity profile as shown below is enforced:\n",
        "\n",
        "$$ u_{\\mathrm{in}} = U_{\\mathrm{max}} \\Big [ 4\\Big ( \\frac{y-h}{H} \\Big ) + 4 \\Big( \\frac{y-h}{H}\\Big )^2 \\Big ] \\ ; \\ U_{\\mathrm{max}}= 0.879$$\n",
        "$$ v_{\\mathrm{in}} = 0 $$\n",
        "\n",
        "Where *H* is the total height of the channel and *h* is the height of the step. The Reynolds number at the inlet is calculated as:\n",
        "\n",
        "$$ Re_{\\infty} = V D/\\nu$$ \n",
        "\n",
        "where, $V = \\frac{2}{3}$ $U_{\\mathrm{\\max}}$, D is the characteristic length scale, and $\\nu$ is the kinematic viscosity of air $\\nu$ = 0.0000148 $m^2/s$. Additionally, $U_{\\mathrm{max}}$ is the maximum velocity due to the parabolic velocity profile imposed at the inlet and $D = 2*h$, where $h$ = 4.9 mm.  "
      ],
      "id": "8d80a710"
    },
    {
      "cell_type": "markdown",
      "metadata": {
        "id": "d87250f5"
      },
      "source": [
        "The presence of a step makes it a challenging problem, especially for a standard finite-difference based flow solver which needs to handle this with care. $\\Phi_{\\mathrm{flow}}$ has the capability to treat the step as a body with given dimensions and specified boundary condition (*i.e*., no-slip here). In the present case, we make use of $\\texttt{obstacle_mask}$ and $\\texttt{boundary_mask}$ to incorporate the parabolic velocity profile shown above along with the step, as shown in Fig. below. \n",
        "\n",
        "\n",
        "![](https://raw.githubusercontent.com/shuvayanb/files_folders/main/masks_2.png)\n",
        "\n",
        "\n",
        "![](https://raw.githubusercontent.com/shuvayanb/files_folders/main/mask_2.png)\n",
        "\n",
        "\n",
        "The $\\texttt{obstacle_mask}$ essentially mimics the step of given dimensions and enforces no-slip boundary condition along its edges. The $\\texttt{boundary_mask1}$ of thickness equal to half cell width (*i.e*., $\\Delta x$/2) allows to enforce a horizontal velocity (zero velocity in the longitudinal direction). Lastly, the $\\texttt{boundary_mask2}$ of height $h$ allows to incorporate the parabolic velocity profile in the upper channel. The computational domain is further discretized using Nx $\\times$ Ny computational cells. \n"
      ],
      "id": "d87250f5"
    },
    {
      "cell_type": "code",
      "execution_count": null,
      "metadata": {
        "colab": {
          "base_uri": "https://localhost:8080/"
        },
        "id": "7e670a56",
        "outputId": "ecaa5aef-405d-491b-ad6b-6eb8b30303bb"
      },
      "outputs": [
        {
          "name": "stdout",
          "output_type": "stream",
          "text": [
            "Phiflow version: 2.1.2\n"
          ]
        }
      ],
      "source": [
        "#!pip uninstall phiflow\n",
        "!pip install --upgrade --quiet git+https://github.com/tum-pbs/PhiFlow@develop\n",
        "from phi.flow import*\n",
        "from phi import __version__\n",
        "\n",
        "print(\"Phiflow version: {}\".format(phi.__version__))"
      ],
      "id": "7e670a56"
    },
    {
      "cell_type": "markdown",
      "metadata": {
        "id": "8dbae778"
      },
      "source": [
        "As mentioned earlier, we will discretise the computational domain of size 300mm $\\times$ 10.1mm into a uniform 100 $\\times$ 20 (*i.e.*, $N_x \\times N_y$) control volumes. We will take a small time step $\\Delta t$ = 0.0035 units and run the simulation for a total of 0.7 units. \n",
        "\n",
        "We will create a $\\texttt{StaggaredGrid}$ for velocity field ($u, v$) and $\\texttt{CenteredGrid}$ for pressure $p$. We will adopt a kinematic viscosity of air as $\\nu = $ 0.0000148 $m^2/s$ and $U_{\\mathrm{max}}$ = 0.879 to yield a Reynolds number (based on $L$ as characteristic length scale) $Re$ = 389. Finally, the velocity field and the pressure field are both initialised as zero.  "
      ],
      "id": "8dbae778"
    },
    {
      "cell_type": "code",
      "execution_count": null,
      "metadata": {
        "colab": {
          "base_uri": "https://localhost:8080/",
          "height": 90
        },
        "id": "89d1abc6",
        "outputId": "c6f116a9-78a5-45a2-e0d5-93f18d6bf7be"
      },
      "outputs": [
        {
          "name": "stdout",
          "output_type": "stream",
          "text": [
            "Reynolds number is 388.2654054054055\n",
            "Kinematic viscosity is 1.48e-05\n",
            "Half-cell thickness: offset is 0.00038124999999999997\n"
          ]
        },
        {
          "data": {
            "text/plain": [
              "<Figure size 432x288 with 0 Axes>"
            ]
          },
          "metadata": {},
          "output_type": "display_data"
        }
      ],
      "source": [
        "T = 0.7 # total time of simulation\n",
        "DT = 0.0005 # time step size\n",
        "STEPS = int(T/DT) \n",
        "\n",
        "fac = 0.001\n",
        "\n",
        "H = 10.1 * fac # total heigth of channel\n",
        "h1 = 4.9 * fac # heigth of the step\n",
        "h2 = H-h1 \n",
        "L1 = 5 * fac # length of the step\n",
        "L2 = 300 * fac # length of the channel\n",
        "\n",
        "Nx = 400 # grid resolution in x-direction\n",
        "Ny = 40  # grid resolution in y-direction\n",
        "\n",
        "offset_x = ((L1+L2)/Nx)*0.5 # amount by which the boundary mask is offset in x-dirction from the centered grid lines\n",
        "offset_y = H*0.5; # amount by which the boundary mask is offset in y-dirction from the centered grid lines\n",
        "disp_y = H/Ny\n",
        "\n",
        "\n",
        "NU = 0.0148 * fac # to yield Re ~ 389\n",
        "Umax = 0.87954\n",
        "V = (2/3)*Umax\n",
        "Char_L = 2*h1\n",
        "\n",
        "def vel_par(R, h=h1, Ht=h2, Um=Umax, f = fac):\n",
        "\n",
        "    yy = R.vector['y'] - h1;\n",
        "    hh = h2-disp_y;\n",
        "    \n",
        "    v = R.vector['y'] * 0\n",
        "    u = Umax*(4*yy/hh - 4 *pow(yy/hh,2))\n",
        "    vec = math.stack([u,v], dim=channel(vector='x,y'))\n",
        "    return vec\n",
        "\n",
        "DOMAIN = dict(x=Nx, y=Ny,bounds=Box[-L1:L2,0:H], extrapolation=extrapolation.combine_sides(x=extrapolation.BOUNDARY, y=extrapolation.ZERO))\n",
        "\n",
        "BOUNDARY_MASK = StaggeredGrid(HardGeometryMask(Box[:offset_x, :]), **DOMAIN)\n",
        "BOUNDARY_MASK_2 = StaggeredGrid(HardGeometryMask(Box[:offset_x, offset_y:]), **DOMAIN)\n",
        "velocity = StaggeredGrid(0, **DOMAIN)\n",
        "obstacle = Obstacle((Box[-L1:0, 0:h1]), velocity=[0, 0], angular_velocity=tensor(0,))\n",
        "obstacle_mask = CenteredGrid(HardGeometryMask(obstacle.geometry), **DOMAIN)\n",
        "v_temp = StaggeredGrid(vel_par, **DOMAIN)\n",
        "pressure = None\n",
        "\n",
        "\n",
        "vis.plot(obstacle_mask)\n",
        "vis.show()\n",
        "\n",
        "print('Reynolds number is {}'.format(V*Char_L/NU))\n",
        "print('Kinematic viscosity is {}'.format(NU))\n",
        "print('Half-cell thickness: offset is {}'.format(offset_x))"
      ],
      "id": "89d1abc6"
    },
    {
      "cell_type": "markdown",
      "metadata": {
        "id": "86d05b23"
      },
      "source": [
        "Once the computational domain have been initialised, we are good to go! Typically, we first compute the $\\texttt{diffuse.explicit}$ step wherein we compute the explicit diffusion via central differencing of the term $\\nu \\nabla^2 \\mathbf{u}^n$, where $n$ is the current time step. This is followed by the advection step wherein the initial velocity field is advected by the time step $\\Delta t$ using $\\texttt{advect.semi_lagrangian}$ step. \n",
        "\n",
        "$$\\begin{aligned}\n",
        "\\mathbf{u}^* = \\mathbf{u}^n + \\Delta t\\Big ( -\\mathbf{u}^n.\\nabla \\Big ) \\mathbf{u}^n\n",
        "\\end{aligned}$$\n",
        "\n",
        "where $\\mathbf{u}^*$ is the intermediate velocity field. This step has to follow a correction in the velocity field using the $\\texttt{BOUNDARY_MASK}$ to correctly enforce the tangential velocity. Finally, the $\\texttt{fluid.make_incompressible}$ determines the divergence free velocity field and the correct pressure gradient via the projection step as below;\n",
        "\n",
        "$$\\begin{aligned}\n",
        "\\mathbf{u}^{n+1} = \\mathbf{u}^* - \\frac{\\Delta t}{\\rho}\\nabla p\n",
        "\\end{aligned}$$"
      ],
      "id": "86d05b23"
    },
    {
      "cell_type": "code",
      "execution_count": null,
      "metadata": {
        "colab": {
          "background_save": true,
          "base_uri": "https://localhost:8080/"
        },
        "id": "e0ef3583",
        "outputId": "fcdf998a-b74f-4f67-d1bb-3247e8aa6ece"
      },
      "outputs": [
        {
          "name": "stdout",
          "output_type": "stream",
          "text": [
            "Simulated time: 0.0 units , remaining 1e+02 (%)\n",
            "Simulated time: 0.025 units , remaining 96.4 (%)\n",
            "Simulated time: 0.05 units , remaining 92.9 (%)\n",
            "Simulated time: 0.075 units , remaining 89.3 (%)\n",
            "Simulated time: 0.1 units , remaining 85.7 (%)\n",
            "Simulated time: 0.125 units , remaining 82.1 (%)\n",
            "Simulated time: 0.15 units , remaining 78.6 (%)\n",
            "Simulated time: 0.175 units , remaining 75.0 (%)\n",
            "Simulated time: 0.2 units , remaining 71.4 (%)\n",
            "Simulated time: 0.225 units , remaining 67.9 (%)\n",
            "Simulated time: 0.25 units , remaining 64.3 (%)\n",
            "Simulated time: 0.275 units , remaining 60.7 (%)\n",
            "Simulated time: 0.3 units , remaining 57.1 (%)\n",
            "Simulated time: 0.325 units , remaining 53.6 (%)\n",
            "Simulated time: 0.35 units , remaining 50.0 (%)\n",
            "Simulated time: 0.375 units , remaining 46.4 (%)\n",
            "Simulated time: 0.4 units , remaining 42.9 (%)\n",
            "Simulated time: 0.425 units , remaining 39.3 (%)\n",
            "Simulated time: 0.45 units , remaining 35.7 (%)\n",
            "Simulated time: 0.475 units , remaining 32.1 (%)\n",
            "Simulated time: 0.5 units , remaining 28.6 (%)\n",
            "Simulated time: 0.525 units , remaining 25.0 (%)\n",
            "Simulated time: 0.55 units , remaining 21.4 (%)\n",
            "Simulated time: 0.575 units , remaining 17.9 (%)\n",
            "Simulated time: 0.6 units , remaining 14.3 (%)\n",
            "Simulated time: 0.625 units , remaining 10.7 (%)\n",
            "Simulated time: 0.65 units , remaining 7.14 (%)\n",
            "Simulated time: 0.675 units , remaining 3.57 (%)\n"
          ]
        }
      ],
      "source": [
        "age  = 0.0\n",
        "\n",
        "for i in range(STEPS):\n",
        "    velocity = diffuse.explicit(velocity, NU, DT)\n",
        "    velocity = advect.mac_cormack(velocity, velocity, DT)\n",
        "    velocity = velocity * (1 - BOUNDARY_MASK) + BOUNDARY_MASK_2 * v_temp\n",
        "    velocity, pressure = fluid.make_incompressible(velocity, (obstacle,), Solve('CG', 1e-5, 1e-5, 2500, x0=None))\n",
        "    if i%50==0:\n",
        "        #print(age)\n",
        "        print(\"Simulated time: {:0.4} units , remaining {:0.3} (%)\".format(age, (T-age)*100/T))\n",
        "\n",
        "    age += DT\n",
        "        \n",
        "        "
      ],
      "id": "e0ef3583"
    },
    {
      "cell_type": "markdown",
      "metadata": {
        "id": "6edb9b0d"
      },
      "source": [
        "Once the above computations are complete, we would like to go ahead and see how the quasi steady-state solution compares with experimental and numerical data available in the existing literature. We will start out by loading all the necessary data into this Jupyter Notebook. The raw experimental data from ([Armaly et al. 1983](https://www.cambridge.org/core/journals/journal-of-fluid-mechanics/article/abs/experimental-and-theoretical-investigation-of-backwardfacing-step-flow/6F4D0F1F684A7BAF899EA1CB88B09DEC)) are available in a Github repository. "
      ],
      "id": "6edb9b0d"
    },
    {
      "cell_type": "code",
      "execution_count": null,
      "metadata": {
        "id": "2f293c6c"
      },
      "outputs": [],
      "source": [
        "import numpy as np\n",
        "import pandas as pd\n",
        "from matplotlib.font_manager import FontProperties\n",
        "import matplotlib.font_manager as font_manager\n",
        "\n",
        "url_1 = 'https://raw.githubusercontent.com/shuvayanb/files_folders/main/Armaly_0_Re_389.csv'\n",
        "df1 = pd.read_csv(url_1,delimiter = ',', encoding='unicode_escape')\n",
        "df1.head()\n",
        "\n",
        "url_2 = 'https://raw.githubusercontent.com/shuvayanb/files_folders/main/Armaly_3_Re_389.csv'\n",
        "df2 = pd.read_csv(url_2,delimiter = ',', encoding='unicode_escape')\n",
        "df2.head()\n",
        "\n",
        "url_3 = 'https://raw.githubusercontent.com/shuvayanb/files_folders/main/Armaly_6_Re_389.csv'\n",
        "df3 = pd.read_csv(url_3,delimiter = ',', encoding='unicode_escape')\n",
        "df3.head()\n",
        "\n",
        "url_4 = 'https://raw.githubusercontent.com/shuvayanb/files_folders/main/Armaly_9_Re_389.csv'\n",
        "df4 = pd.read_csv(url_4,delimiter = ',', encoding='unicode_escape')\n",
        "df4.head()\n",
        "\n",
        "url_5 = 'https://raw.githubusercontent.com/shuvayanb/files_folders/main/Armaly_11_Re_389.csv'\n",
        "df5 = pd.read_csv(url_5,delimiter = ',', encoding='unicode_escape')\n",
        "df5.head()\n",
        "\n",
        "loc_1 = 0.0\n",
        "loc_2 = 3.06\n",
        "loc_3 = 6.12\n",
        "loc_4 = 9.74\n",
        "loc_5 = 11.84\n",
        "\n",
        "\n",
        "Armaly_0 = np.array(df1)\n",
        "Armaly_3 = np.array(df2)\n",
        "Armaly_6 = np.array(df3)\n",
        "Armaly_9 = np.array(df4)\n",
        "Armaly_11 = np.array(df5)    \n",
        "\n",
        "V_Armaly_0 = Armaly_0[:,0] + loc_1\n",
        "Y_Armaly_0 = Armaly_0[:,1]/1000\n",
        "\n",
        "V_Armaly_3 = Armaly_3[:,0] + loc_2\n",
        "Y_Armaly_3 = Armaly_3[:,1]/1000\n",
        "\n",
        "V_Armaly_6 = Armaly_6[:,0] + loc_3\n",
        "Y_Armaly_6 = Armaly_6[:,1]/1000\n",
        "\n",
        "V_Armaly_9 = Armaly_9[:,0] + loc_4\n",
        "Y_Armaly_9 = Armaly_9[:,1]/1000\n",
        "\n",
        "V_Armaly_11 = Armaly_11[:,0] + loc_5\n",
        "Y_Armaly_11 = Armaly_11[:,1]/1000\n",
        "\n",
        "\n",
        "url_6 = 'https://raw.githubusercontent.com/shuvayanb/files_folders/main/Armaly_Re_389_u_x_RANS_ke.csv'\n",
        "df6 = pd.read_csv(url_6,delimiter = ',', encoding='unicode_escape')\n",
        "df6.head()\n",
        "\n",
        "url_7 = 'https://raw.githubusercontent.com/shuvayanb/files_folders/main/Armaly_Re_389_u_x_RANS_laminar.csv'\n",
        "df7 = pd.read_csv(url_7,delimiter = ',', encoding='unicode_escape')\n",
        "df7.head()\n",
        "\n",
        "url_8 = 'https://raw.githubusercontent.com/shuvayanb/files_folders/main/Armaly_Re_389_u_x_LES_laminar.csv'\n",
        "df8 = pd.read_csv(url_8,delimiter = ',', encoding='unicode_escape')\n",
        "df8.head()\n",
        "\n",
        "Armaly_ux_rke = np.array(df6)\n",
        "Armaly_ux_rlam = np.array(df7)\n",
        "Armaly_ux_llam = np.array(df8)\n",
        "\n",
        "x_Armaly_rke = Armaly_ux_rke[:,0]\n",
        "u_Armaly_rke = Armaly_ux_rke[:,1]\n",
        "\n",
        "x_Armaly_rlam = Armaly_ux_rlam[:,0]\n",
        "u_Armaly_rlam = Armaly_ux_rlam[:,1]\n",
        "\n",
        "x_Armaly_llam = Armaly_ux_llam[:,0]\n",
        "u_Armaly_llam = Armaly_ux_llam[:,1]\n",
        "\n",
        "    \n",
        "    "
      ],
      "id": "2f293c6c"
    },
    {
      "cell_type": "markdown",
      "metadata": {
        "id": "42ceb458"
      },
      "source": [
        "Once the raw data is loaded, we would go ahead and compare how well $\\Phi_{\\mathrm{flow}}$ does as shown below,"
      ],
      "id": "42ceb458"
    },
    {
      "cell_type": "code",
      "execution_count": null,
      "metadata": {
        "colab": {
          "base_uri": "https://localhost:8080/",
          "height": 419
        },
        "id": "cb878799",
        "outputId": "c962ecf0-2cc5-4881-80da-eb8830ac878c"
      },
      "outputs": [
        {
          "output_type": "display_data",
          "data": {
            "text/plain": [
              "<Figure size 864x432 with 1 Axes>"
            ],
            "image/png": "[encoded data removed]"
          },
          "metadata": {
            "needs_background": "light"
          }
        }
      ],
      "source": [
        "from matplotlib import pyplot\n",
        "import matplotlib.pyplot as plt\n",
        "\n",
        "def vel_mag(loc):\n",
        "    mark =  L1 + (loc*4.9*fac)\n",
        "    div = int((Nx/(L1+L2))*mark)\n",
        "    #uu = velocity.vector[0].values[div,:Ny-1].numpy('x,y').flatten()\n",
        "    uu = velocity.vector[0].values.x[div].y[:Ny-1].numpy('x,y').flatten()\n",
        "    vv = velocity.vector[1].values.x[div].y[:].numpy('x,y').flatten()\n",
        "    #vv = velocity.vector[1].values[div,:].numpy('x,y').flatten()\n",
        "    Vel = np.sqrt(uu**2+vv**2)\n",
        "\n",
        "    return Vel\n",
        "\n",
        "\n",
        "plt.figure(figsize=(12,6))\n",
        "font = font_manager.FontProperties(family='Times New Roman', weight='normal', style='normal', size=15)\n",
        "csfont = {'fontname':'Times New Roman'}\n",
        "\n",
        "\n",
        "plt.scatter(V_Armaly_0,Y_Armaly_0, label = \"Armaly et al. 1983\", color='red')\n",
        "plt.scatter(V_Armaly_3,Y_Armaly_3, color='red')\n",
        "plt.scatter(V_Armaly_6,Y_Armaly_6, color='red')\n",
        "plt.scatter(V_Armaly_9,Y_Armaly_9, color='red')\n",
        "plt.scatter(V_Armaly_11,Y_Armaly_11, color='red')\n",
        "\n",
        "plt.plot(vel_mag(loc_1)+loc_1,np.linspace(0,H,Ny-1), label = '$\\phi_{\\mathrm{flow}}, x/S$ = %0.3f' %0.0,color='orange')\n",
        "plt.plot(vel_mag(loc_2)+loc_2,np.linspace(0,H,Ny-1), label = '$\\phi_{\\mathrm{flow}}, x/S$ = %0.3f' %3.06,color='green')\n",
        "plt.plot(vel_mag(loc_3)+loc_3,np.linspace(0,H,Ny-1), label = '$\\phi_{\\mathrm{flow}}, x/S$ = %0.3f' %6.12,color='black')\n",
        "plt.plot(vel_mag(loc_4)+loc_4,np.linspace(0,H,Ny-1), label = '$\\phi_{\\mathrm{flow}}, x/S$ = %0.3f' %9.74,color='red')\n",
        "plt.plot(vel_mag(loc_5)+loc_5,np.linspace(0,H,Ny-1), label = '$\\phi_{\\mathrm{flow}}, x/S$ = %0.3f' %11.84,color='blue')\n",
        "\n",
        "\n",
        "\n",
        "plt.ylim(0,H)\n",
        "\n",
        "plt.ylabel('$y$ cordinate [mm]',fontsize=16,**csfont)\n",
        "plt.xlabel('$x/S$ coordinate',fontsize=16, **csfont)\n",
        "plt.title('Comparison with Armaly et al. 1983', fontsize = 18, **csfont)\n",
        "plt.legend(loc=\"upper right\", prop=font)\n",
        "plt.xticks(np.arange(0,14,2))\n",
        "plt.yticks(np.arange(0,0.01,0.002))\n",
        "plt.xlim([0, 20])\n",
        "plt.ylim([0, 0.01])\n",
        "plt.tick_params(labelsize=14)\n",
        "plt.grid()\n",
        "plt.show()"
      ],
      "id": "cb878799"
    },
    {
      "cell_type": "markdown",
      "metadata": {
        "id": "56be5b18"
      },
      "source": [
        "The above figure shows the comparison of $u$-velocity obtained form $\\Phi_{\\mathrm{flow}}$ with the experiental data of ([Armaly et al. 1983](https://www.cambridge.org/core/journals/journal-of-fluid-mechanics/article/abs/experimental-and-theoretical-investigation-of-backwardfacing-step-flow/6F4D0F1F684A7BAF899EA1CB88B09DEC)). How do the results compare? Do you see a big difference? On the present setting, we observe that $\\Phi_{\\mathrm{flow}}$ does reasonably well but the solutions can obviously be improved using much finer grid resolution and lower time steps. For instance, try and change $N_x$ = 51 and $N_y$ = 600 with a $\\Delta t$ = 0.0001 units and re-run the simulation. "
      ],
      "id": "56be5b18"
    },
    {
      "cell_type": "code",
      "execution_count": null,
      "metadata": {
        "colab": {
          "base_uri": "https://localhost:8080/",
          "height": 452
        },
        "id": "e83eb7af",
        "outputId": "2a5b261f-a71e-4aae-c04f-0cc9414681c1"
      },
      "outputs": [
        {
          "output_type": "execute_result",
          "data": {
            "text/plain": [
              "Text(0.5, 0, '$x/S$ coordinate')"
            ]
          },
          "metadata": {},
          "execution_count": 13
        },
        {
          "output_type": "display_data",
          "data": {
            "text/plain": [
              "<Figure size 432x432 with 1 Axes>"
            ],
            "image/png": "[encoded data removed]"
          },
          "metadata": {
            "needs_background": "light"
          }
        }
      ],
      "source": [
        "layer = 0\n",
        "\n",
        "p_bottom = pressure.values.x[:].y[layer].numpy('x,y').flatten()\n",
        "x_bottom = pressure.points.vector[0].y[layer].numpy('x,y').flatten()\n",
        "\n",
        "u_bottom = velocity.vector['x'].values.x[:Nx].y[layer].numpy('x,y').flatten()\n",
        "v_bottom = velocity.vector['y'].values.x[:Nx].y[layer].numpy('x,y').flatten()\n",
        "\n",
        "    \n",
        "\n",
        "\n",
        "def at_centers(self) -> CenteredGrid:\n",
        "\n",
        "    return CenteredGrid(self, resolution=self.resolution, bounds=self.bounds, extrapolation=self.extrapolation)\n",
        "\n",
        "Vc = at_centers(velocity)\n",
        "\n",
        "Vc_mag = math.vec_length(Vc.values).numpy('x,y')\n",
        "\n",
        "Vc_magb = Vc_mag[:,layer]\n",
        "\n",
        "\n",
        "fig, axs = plt.subplots(1,1,figsize=(6,6))\n",
        "fig.suptitle('Flow profiles near the lower wall')\n",
        "\n",
        "\n",
        "plt.plot(x_bottom/h1,u_bottom,color='blue',label=\"$u$-velocity $\\Phi_{flow}$\")\n",
        "plt.scatter(x_Armaly_rke,u_Armaly_rke,color='red',label=\"Armaly et al. 1989: RANS $k-\\epsilon$\")\n",
        "plt.scatter(x_Armaly_rlam,u_Armaly_rlam,color='orange',label=\"Armaly et al. 1989: RANS Laminar\")\n",
        "plt.scatter(x_Armaly_llam,u_Armaly_llam,color='green',label=\"Armaly et al. 1989: RANS Laminar\")\n",
        "plt.scatter(8,0, c = 'black', marker = 's',alpha = None, label=\"Experimental re-attachment point\" )\n",
        "plt.xlim([0, 30])\n",
        "plt.ylim([-0.1, 0.125])\n",
        "plt.legend(loc=\"lower right\")\n",
        "plt.axhline(y=0.0, color='r', linestyle='--')\n",
        "plt.ylabel('$u$-velocity')\n",
        "plt.xlabel('$x/S$ coordinate')\n",
        "\n"
      ],
      "id": "e83eb7af"
    },
    {
      "cell_type": "markdown",
      "metadata": {
        "id": "2de33fa5"
      },
      "source": [
        "The above cell compares the $u$-velocity distribution just above the lower wall and its comparison with existing data. While we see that the $u$-velocity near the wall is largely over-predicted by $\\Phi_{\\mathrm{flow}}$, it is primarily due to under-resolved grids. However, interestingly and quite surprisingly, it is found that $\\Phi_{\\mathrm{flow}}$ does quite well to predict the re-attachment region well. \n",
        "\n",
        "Finally, we will show how the overall velocity field compares with the solution computed using [icoFoam](https://cfd-training.com/2019/04/06/backward-facing-step-laminar-flow/)"
      ],
      "id": "2de33fa5"
    },
    {
      "cell_type": "code",
      "execution_count": null,
      "metadata": {
        "colab": {
          "base_uri": "https://localhost:8080/",
          "height": 35
        },
        "id": "95e3270d",
        "outputId": "d8c95056-93af-4cf4-b69f-52f70ffebb77",
        "scrolled": true
      },
      "outputs": [
        {
          "output_type": "display_data",
          "data": {
            "text/plain": [
              "<Figure size 432x288 with 0 Axes>"
            ]
          },
          "metadata": {}
        }
      ],
      "source": [
        "vel_u = at_centers(velocity.vector[0])\n",
        "vel_v = at_centers(velocity.vector[1])\n",
        "\n",
        "vel_m = (vel_u**2 + vel_v**2)**0.5\n",
        "\n",
        "vis.plot(vel_m)\n",
        "vis.show()"
      ],
      "id": "95e3270d"
    },
    {
      "cell_type": "markdown",
      "metadata": {
        "id": "crO2p-NcYeso"
      },
      "source": [
        "![](https://raw.githubusercontent.com/shuvayanb/files_folders/main/icoFoam.png)"
      ],
      "id": "crO2p-NcYeso"
    }
  ],
  "metadata": {
    "colab": {
      "collapsed_sections": [],
      "name": "backward_facing_step_Re_389.ipynb",
      "provenance": [],
      "include_colab_link": true
    },
    "kernelspec": {
      "display_name": "Python 3 (ipykernel)",
      "language": "python",
      "name": "python3"
    },
    "language_info": {
      "codemirror_mode": {
        "name": "ipython",
        "version": 3
      },
      "file_extension": ".py",
      "mimetype": "text/x-python",
      "name": "python",
      "nbconvert_exporter": "python",
      "pygments_lexer": "ipython3",
      "version": "3.9.7"
    }
  },
  "nbformat": 4,
  "nbformat_minor": 5
}